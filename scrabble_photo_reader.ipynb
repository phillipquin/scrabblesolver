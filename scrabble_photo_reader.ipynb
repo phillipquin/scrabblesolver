{
 "cells": [
  {
   "cell_type": "markdown",
   "metadata": {},
   "source": [
    "# Reading a Scrabble Board State from a Photo\n",
    "\n",
    "## Overview\n",
    "\n",
    "The goal here will be to read a board state and set of tiles from a photo, then call the existing Scrabble Solver code to generate a list of solutions, ranked by score."
   ]
  },
  {
   "cell_type": "code",
   "execution_count": 1,
   "metadata": {},
   "outputs": [],
   "source": [
    "# Use OpenCV to read a board state and a tile state from photos\n",
    "\n",
    "# Try to read a board state and print it\n",
    "\n",
    "# Try to read a tile state and print it\n",
    "\n",
    "# If have both board and tile state, spit out a set of solutions"
   ]
  }
 ],
 "metadata": {
  "kernelspec": {
   "display_name": "Python 3",
   "language": "python",
   "name": "python3"
  },
  "language_info": {
   "codemirror_mode": {
    "name": "ipython",
    "version": 3
   },
   "file_extension": ".py",
   "mimetype": "text/x-python",
   "name": "python",
   "nbconvert_exporter": "python",
   "pygments_lexer": "ipython3",
   "version": "3.6.9"
  }
 },
 "nbformat": 4,
 "nbformat_minor": 4
}
